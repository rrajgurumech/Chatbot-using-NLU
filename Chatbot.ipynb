{
 "cells": [
  {
   "cell_type": "code",
   "execution_count": 1,
   "metadata": {},
   "outputs": [
    {
     "name": "stderr",
     "output_type": "stream",
     "text": [
      "[nltk_data] Downloading package punkt to\n",
      "[nltk_data]     C:\\Users\\rrajguru\\AppData\\Roaming\\nltk_data...\n",
      "[nltk_data]   Package punkt is already up-to-date!\n",
      "[nltk_data] Downloading package wordnet to\n",
      "[nltk_data]     C:\\Users\\rrajguru\\AppData\\Roaming\\nltk_data...\n",
      "[nltk_data]   Package wordnet is already up-to-date!\n"
     ]
    }
   ],
   "source": [
    "import numpy as np\n",
    "from keras.models import Sequential\n",
    "from keras.layers import Dense, Activation, Dropout\n",
    "from keras import optimizers\n",
    "import random\n",
    "\n",
    "import nltk\n",
    "nltk.download('punkt')\n",
    "from nltk.stem import WordNetLemmatizer\n",
    "lemmatizer = WordNetLemmatizer()\n",
    "import json\n",
    "import pickle\n",
    "nltk.download('wordnet')\n",
    "\n",
    "\n",
    "intents_file = open(r'C:\\Users\\rrajguru\\Desktop\\Data Science rajguru\\The Complete Data Science Courses and Materials\\Practical Problems and datasets\\Chatbot\\files\\intents.json').read()\n",
    "intents = json.loads(intents_file)"
   ]
  },
  {
   "cell_type": "code",
   "execution_count": 2,
   "metadata": {},
   "outputs": [
    {
     "name": "stdout",
     "output_type": "stream",
     "text": [
      "[(['Hi', 'there'], 'greeting'), (['How', 'are', 'you'], 'greeting'), (['Is', 'anyone', 'there', '?'], 'greeting'), (['Hey'], 'greeting'), (['Hola'], 'greeting'), (['Hello'], 'greeting'), (['Good', 'day'], 'greeting'), (['Bye'], 'goodbye'), (['See', 'you', 'later'], 'goodbye'), (['Goodbye'], 'goodbye'), (['Nice', 'chatting', 'to', 'you', ',', 'bye'], 'goodbye'), (['Till', 'next', 'time'], 'goodbye'), (['Thanks'], 'thanks'), (['Thank', 'you'], 'thanks'), (['That', \"'s\", 'helpful'], 'thanks'), (['Awesome', ',', 'thanks'], 'thanks'), (['Thanks', 'for', 'helping', 'me'], 'thanks'), (['How', 'you', 'could', 'help', 'me', '?'], 'options'), (['What', 'help', 'you', 'provide', '?'], 'options'), (['How', 'you', 'can', 'be', 'helpful', '?'], 'options'), (['where', 'is', 'order', 'with', 'id', '431B67', '?'], 'order_tracking'), (['track', 'order', '562B78'], 'order_tracking'), (['Where', 'is', 'my', 'order', 'with', 'id', '561A24', '?'], 'order_tracking'), (['order', 'id', '345A23', 'comprises', 'of', '?'], 'order_components'), (['List', 'of', 'components'], 'order_components'), (['where', 'is', 'the', 'order'], 'missing_id'), (['where', 'is', 'my', 'order'], 'missing_id'), (['locate', 'the', 'order'], 'missing_id'), (['Delivery', 'date', 'of', 'order'], 'missing_id'), (['find', 'order', 'location', '32712'], 'Location'), (['What', 'is', 'the', 'Location', 'of', 'order', '23A31', '?'], 'Location'), (['I', 'want', 'an', 'appoitment', 'with', 'Manoj', 'kumar'], 'search_person_by_id'), (['set', 'an', 'appointment', 'with', 'Sujata', 'Nandi'], 'search_person_by_id'), (['Is', 'my', 'appointment', 'fixed', '?'], 'appointment status'), (['Do', 'I', 'have', 'an', 'appointment', 'today', '?'], 'appointment status'), (['Is', 'Sujata', 'Nandi', 'on', 'leave', '?'], 'check_leave'), (['Is', 'Manish', 'Kumar', 'on', 'leave', '?'], 'check_leave'), (['Cost', 'Lowering', 'changes', 'to', 'be', 'made', '?'], 'cost_lowering'), (['what', 'changes', 'could', 'lower', 'cost', '?'], 'cost_lowering'), (['I', 'forgot', 'my', 'Login', 'password', '?'], 'forgot_password'), (['what', 'to', 'do', 'when', 'someone', 'forgets', 'Login', 'password', '?'], 'forgot_password'), (['I', 'forgot', 'my', 'Laptop', 'password'], 'forgot_password'), (['Forgot', 'Wifi', 'password'], 'forgot_password'), (['abx', '@', 'gmail.com'], 'email_id'), (['abc', '@', 'kiit.ac.in'], 'email_id'), (['Find', 'me', 'a', 'manufacturer', 'nearby'], 'manufacturing_problems'), (['I', 'want', 'to', 'know', 'the', 'various', 'departments', 'in', 'this', 'company'], 'search_department'), (['what', 'are', 'challenging', 'events'], 'competitors_in_market'), (['what', 'are', 'the', 'threats', 'in', 'the', 'market'], 'competitors_in_market'), (['Our', 'Target', 'customers'], 'key_customers'), (['who', 'are', 'your', 'key', 'customers'], 'key_customers'), (['What', 'information', 'is', 'shared', 'with', 'supplier', '?'], 'supplier_info'), (['What', 'is', 'the', 'highest', 'grossing', 'product', '?'], 'highest_grossing'), (['I', 'want', 'to', 'meet', 'the', 'head', 'of', 'HR/IT/Projects', 'department'], 'connect_people'), (['I', 'want', 'to', 'meet', 'head', 'IT', 'Rakesh', 'sharma', '.'], 'connect_people'), (['complaint', 'has', 'been', 'raised', 'for', 'Insufficient', 'Team', 'Skills'], 'project_handling_queries'), (['Miscommunication', 'Conflicts', 'needs', 'to', 'be', 'resolved'], 'project_handling_queries'), (['Risk', 'Management', 'issue', 'has', 'occured'], 'project_handling_queries'), (['skilled', 'employees', 'needed', 'urgently'], 'project_handling_queries'), (['Lack', 'of', 'product', 'clarity'], 'solve_problems'), (['the', 'specifications', 'of', 'product', 'is', 'not', 'clear', 'to', 'customer', '.', 'what', 'should', 'we', 'do'], 'solve_problems'), (['user', 'needs', 'the', 'updated', 'software', 'version'], 'version_update'), (['user', 'demands', 'software', 'updation'], 'version_update'), (['problem', 'related', 'to', 'Job', 'design', 'and', 'analysis'], 'HR_related_problem'), (['query', 'based', 'on', 'Workforce', 'planning'], 'HR_related_problem'), (['Training', 'and', 'development', 'issues', 'are', 'to', 'be', 'handled'], 'HR_related_problem'), (['Compensation', 'and', 'benefits', 'of', 'the', 'working', 'employee'], 'HR_related_problem'), (['Legal', 'issues', 'of', 'department', 'like', 'accidents', 'in', 'the', 'company'], 'HR_related_problem'), (['Impact', 'on', 'sale', '?'], 'factors_impacting_sale'), (['factors', 'impacting', 'sale', 'this', 'year', '?'], 'factors_impacting_sale'), (['how', 'have', 'we', 'improved', 'our', 'sale', 'from', 'last', 'year', '?'], 'predict_performance'), (['what', 'is', 'the', 'profit', 'this', 'year', '?'], 'predict_performance'), (['how', 'was', 'the', 'customer', 'response'], 'customer_satisfaction'), (['Is', 'the', 'customer', 'happy', '?'], 'customer_satisfaction'), (['what', 'was', 'the', 'customer', 'feedback', '?'], 'customer_satisfaction'), (['maintainence', 'related', 'queries', 'recorded'], 'maintainence'), (['what', 'are', 'the', 'gadgets', 'in', 'stock', '?'], 'gadgets'), (['which', 'products', 'we', 'have', '?'], 'gadgets'), (['what', 'is', 'the', 'Commission', 'rate', '?'], 'commission'), (['Commission', 'rate', 'on', 'each', 'product', '?'], 'commission'), (['Marry', 'me'], 'invalid'), (['I', 'love', 'You'], 'invalid'), (['date', 'me'], 'invalid'), (['chat', 'with', 'me'], 'invalid'), (['I', 'am', 'bored'], 'invalid'), (['why'], 'noans'), (['how'], 'noans'), (['when'], 'noans'), (['I'], 'noans'), (['you'], 'noans'), (['what', 'is', 'the', 'turnover', 'of', 'the', 'company', 'at', 'present', '?'], 'turnover'), (['why', 'is', 'order', '23A12', 'delayed'], 'predict_delay'), (['why', 'is', 'order', '23A12', 'delayed'], 'predict_delay'), (['what', 'is', 'your', 'name', '?'], 'name'), (['what', 'should', 'I', 'call', 'you', '?'], 'name'), (['how', 'you', 'doing', '?'], 'about'), (['how', 'are', 'you'], 'about'), (['How', 'to', 'configure', 'my', 'laptop'], 'configuration'), (['software', 'configuration', 'of', 'laptop'], 'configuration'), (['steps', 'to', 'configure', 'laptop'], 'configuration'), (['How', 'to', 'configure', 'my', 'computer'], 'configuration'), (['software', 'configuration', 'of', 'computer'], 'configuration'), (['steps', 'to', 'configure', 'computer'], 'configuration'), (['How', 'to', 'configure', 'my', 'desktop'], 'configuration'), (['software', 'configuration', 'of', 'desktop'], 'configuration'), (['steps', 'to', 'configure', 'desktop'], 'configuration'), (['what', 'is', 'the', 'weather', 'today', '?'], 'Weather'), (['Is', 'Michel', 'Sharma', 'on', 'leave', '?'], 'leave'), (['Is', 'Siddhart', 'Roy', 'present', 'today', '?'], 'leave'), (['Is', 'Shantanu', 'Bhatt', 'in', 'office', '?'], 'leave'), (['Opening', 'hours', 'of', 'the', 'cafeteria', '?'], 'hours'), (['when', 'does', 'the', 'cafeteria', 'open'], 'hours'), (['office', 'canteen', 'opening', 'time'], 'hours'), (['where', 'is', 'VP', 'cabin', '?'], 'cabin'), (['Where', 'is', 'Head', 'IT', 'cabin', '?'], 'cabin'), (['Where', 'is', 'AI', 'department'], 'cabin'), (['Where', 'is', 'Project', 'head', 'department', '?'], 'cabin'), (['where', 'is', 'cafeteria'], 'cabin'), (['guide', 'me', 'to', 'the', 'canteen'], 'cabin'), (['How', 'to', 'improve', 'team', 'members', 'domain', 'knowledge'], 'domain'), (['improving', 'domain', 'knowledge', 'of', 'team', 'members'], 'domain')]\n"
     ]
    }
   ],
   "source": [
    "words = []\n",
    "classes = []\n",
    "documents = []\n",
    "ignore_letters = ['!','?',',','.']\n",
    "\n",
    "for intent in intents['intents']:\n",
    "    for pattern in intent['patterns']:\n",
    "        #tokenize each word\n",
    "        word = nltk.word_tokenize(pattern)\n",
    "        words.extend(word)\n",
    "        #add document in the corpus\n",
    "        documents.append((word, intent['tag']))\n",
    "        #add to our classes list\n",
    "        if intent['tag'] not in classes:\n",
    "            classes.append(intent['tag'])\n",
    "            \n",
    "print(documents)\n",
    "            "
   ]
  },
  {
   "cell_type": "code",
   "execution_count": 3,
   "metadata": {},
   "outputs": [
    {
     "name": "stdout",
     "output_type": "stream",
     "text": [
      "121 documents\n",
      "239 classes [\"'s\", '23a12', '23a31', '32712', '345a23', '431b67', '561a24', '562b78', '@', 'a', 'abc', 'abx', 'accident', 'ai', 'am', 'an', 'analysis', 'and', 'anyone', 'appointment', 'appoitment', 'are', 'at', 'awesome', 'based', 'be', 'been', 'benefit', 'bhatt', 'bored', 'bye', 'cabin', 'cafeteria', 'call', 'can', 'canteen', 'challenging', 'change', 'chat', 'chatting', 'clarity', 'clear', 'commission', 'company', 'compensation', 'complaint', 'component', 'comprises', 'computer', 'configuration', 'configure', 'conflict', 'cost', 'could', 'customer', 'date', 'day', 'delayed', 'delivery', 'demand', 'department', 'design', 'desktop', 'development', 'do', 'doe', 'doing', 'domain', 'each', 'employee', 'event', 'factor', 'feedback', 'find', 'fixed', 'for', 'forgets', 'forgot', 'from', 'gadget', 'gmail.com', 'good', 'goodbye', 'grossing', 'guide', 'ha', 'handled', 'happy', 'have', 'head', 'hello', 'help', 'helpful', 'helping', 'hey', 'hi', 'highest', 'hola', 'hour', 'how', 'hr/it/projects', 'i', 'id', 'impact', 'impacting', 'improve', 'improved', 'improving', 'in', 'information', 'insufficient', 'is', 'issue', 'it', 'job', 'key', 'kiit.ac.in', 'know', 'knowledge', 'kumar', 'lack', 'laptop', 'last', 'later', 'leave', 'legal', 'like', 'list', 'locate', 'location', 'login', 'love', 'lower', 'lowering', 'made', 'maintainence', 'management', 'manish', 'manoj', 'manufacturer', 'market', 'marry', 'me', 'meet', 'member', 'michel', 'miscommunication', 'my', 'name', 'nandi', 'nearby', 'need', 'needed', 'next', 'nice', 'not', 'occured', 'of', 'office', 'on', 'open', 'opening', 'order', 'our', 'password', 'planning', 'present', 'problem', 'product', 'profit', 'project', 'provide', 'query', 'raised', 'rakesh', 'rate', 'recorded', 'related', 'resolved', 'response', 'risk', 'roy', 'sale', 'see', 'set', 'shantanu', 'shared', 'sharma', 'should', 'siddhart', 'skill', 'skilled', 'software', 'someone', 'specification', 'step', 'stock', 'sujata', 'supplier', 'target', 'team', 'thank', 'thanks', 'that', 'the', 'there', 'this', 'threat', 'till', 'time', 'to', 'today', 'track', 'training', 'turnover', 'updated', 'updation', 'urgently', 'user', 'various', 'version', 'vp', 'wa', 'want', 'we', 'weather', 'what', 'when', 'where', 'which', 'who', 'why', 'wifi', 'with', 'workforce', 'working', 'year', 'you', 'your']\n",
      "239 unique lemmatized words [\"'s\", '23a12', '23a31', '32712', '345a23', '431b67', '561a24', '562b78', '@', 'a', 'abc', 'abx', 'accident', 'ai', 'am', 'an', 'analysis', 'and', 'anyone', 'appointment', 'appoitment', 'are', 'at', 'awesome', 'based', 'be', 'been', 'benefit', 'bhatt', 'bored', 'bye', 'cabin', 'cafeteria', 'call', 'can', 'canteen', 'challenging', 'change', 'chat', 'chatting', 'clarity', 'clear', 'commission', 'company', 'compensation', 'complaint', 'component', 'comprises', 'computer', 'configuration', 'configure', 'conflict', 'cost', 'could', 'customer', 'date', 'day', 'delayed', 'delivery', 'demand', 'department', 'design', 'desktop', 'development', 'do', 'doe', 'doing', 'domain', 'each', 'employee', 'event', 'factor', 'feedback', 'find', 'fixed', 'for', 'forgets', 'forgot', 'from', 'gadget', 'gmail.com', 'good', 'goodbye', 'grossing', 'guide', 'ha', 'handled', 'happy', 'have', 'head', 'hello', 'help', 'helpful', 'helping', 'hey', 'hi', 'highest', 'hola', 'hour', 'how', 'hr/it/projects', 'i', 'id', 'impact', 'impacting', 'improve', 'improved', 'improving', 'in', 'information', 'insufficient', 'is', 'issue', 'it', 'job', 'key', 'kiit.ac.in', 'know', 'knowledge', 'kumar', 'lack', 'laptop', 'last', 'later', 'leave', 'legal', 'like', 'list', 'locate', 'location', 'login', 'love', 'lower', 'lowering', 'made', 'maintainence', 'management', 'manish', 'manoj', 'manufacturer', 'market', 'marry', 'me', 'meet', 'member', 'michel', 'miscommunication', 'my', 'name', 'nandi', 'nearby', 'need', 'needed', 'next', 'nice', 'not', 'occured', 'of', 'office', 'on', 'open', 'opening', 'order', 'our', 'password', 'planning', 'present', 'problem', 'product', 'profit', 'project', 'provide', 'query', 'raised', 'rakesh', 'rate', 'recorded', 'related', 'resolved', 'response', 'risk', 'roy', 'sale', 'see', 'set', 'shantanu', 'shared', 'sharma', 'should', 'siddhart', 'skill', 'skilled', 'software', 'someone', 'specification', 'step', 'stock', 'sujata', 'supplier', 'target', 'team', 'thank', 'thanks', 'that', 'the', 'there', 'this', 'threat', 'till', 'time', 'to', 'today', 'track', 'training', 'turnover', 'updated', 'updation', 'urgently', 'user', 'various', 'version', 'vp', 'wa', 'want', 'we', 'weather', 'what', 'when', 'where', 'which', 'who', 'why', 'wifi', 'with', 'workforce', 'working', 'year', 'you', 'your']\n"
     ]
    }
   ],
   "source": [
    "# lemmaztize and lower each word and remove duplicates\n",
    "words = [lemmatizer.lemmatize(w.lower()) for w in words if w not in ignore_letters]\n",
    "words = sorted(list(set(words)))\n",
    "\n",
    "#sort classes\n",
    "classes = sorted(list(set(words)))\n",
    "\n",
    "#documents = combination between patterns and intents\n",
    "print(len(documents),\"documents\")\n",
    "\n",
    "#classes = intents\n",
    "print(len(classes), \"classes\",classes)\n",
    "#words = all vocabulary\n",
    "\n",
    "print(len(words), \"unique lemmatized words\", words)\n",
    "\n",
    "pickle.dump(words,open('words.pkl', 'wb'))\n",
    "pickle.dump(classes, open('classes.pkl', 'wb'))"
   ]
  },
  {
   "cell_type": "code",
   "execution_count": 6,
   "metadata": {},
   "outputs": [
    {
     "ename": "ValueError",
     "evalue": "'greeting' is not in list",
     "output_type": "error",
     "traceback": [
      "\u001b[1;31m---------------------------------------------------------------------------\u001b[0m",
      "\u001b[1;31mValueError\u001b[0m                                Traceback (most recent call last)",
      "\u001b[1;32m<ipython-input-6-b5862242367d>\u001b[0m in \u001b[0;36m<module>\u001b[1;34m\u001b[0m\n\u001b[0;32m     18\u001b[0m     \u001b[1;31m#output is a '0' for each tag and '1' for current tag (for each pattern)\u001b[0m\u001b[1;33m\u001b[0m\u001b[1;33m\u001b[0m\u001b[1;33m\u001b[0m\u001b[0m\n\u001b[0;32m     19\u001b[0m     \u001b[0moutput_row\u001b[0m \u001b[1;33m=\u001b[0m \u001b[0mlist\u001b[0m\u001b[1;33m(\u001b[0m\u001b[0moutput_empty\u001b[0m\u001b[1;33m)\u001b[0m\u001b[1;33m\u001b[0m\u001b[1;33m\u001b[0m\u001b[0m\n\u001b[1;32m---> 20\u001b[1;33m     \u001b[0moutput_row\u001b[0m\u001b[1;33m[\u001b[0m\u001b[0mclasses\u001b[0m\u001b[1;33m.\u001b[0m\u001b[0mindex\u001b[0m\u001b[1;33m(\u001b[0m\u001b[0mdoc\u001b[0m\u001b[1;33m[\u001b[0m\u001b[1;36m1\u001b[0m\u001b[1;33m]\u001b[0m\u001b[1;33m)\u001b[0m\u001b[1;33m]\u001b[0m\u001b[1;33m=\u001b[0m\u001b[1;36m1\u001b[0m\u001b[1;33m\u001b[0m\u001b[1;33m\u001b[0m\u001b[0m\n\u001b[0m\u001b[0;32m     21\u001b[0m     \u001b[0mtraining\u001b[0m\u001b[1;33m.\u001b[0m\u001b[0mappend\u001b[0m\u001b[1;33m(\u001b[0m\u001b[1;33m[\u001b[0m\u001b[0mbag\u001b[0m\u001b[1;33m,\u001b[0m \u001b[0moutput_row\u001b[0m\u001b[1;33m]\u001b[0m\u001b[1;33m)\u001b[0m\u001b[1;33m\u001b[0m\u001b[1;33m\u001b[0m\u001b[0m\n\u001b[0;32m     22\u001b[0m \u001b[1;33m\u001b[0m\u001b[0m\n",
      "\u001b[1;31mValueError\u001b[0m: 'greeting' is not in list"
     ]
    }
   ],
   "source": [
    "#create the training data\n",
    "training = []\n",
    "# create empty array for the output\n",
    "output_empty = [0]*len(classes)\n",
    "\n",
    "#training set , bag of words for every sentence\n",
    "for doc in documents:\n",
    "    #initializing bag of words\n",
    "    bag = []\n",
    "    #list  of tokenized words in patterns\n",
    "    word_patterns = doc[0]\n",
    "    #lemmatize each word - create base word , in attempt to represent related words\n",
    "    word_patterns = [lemmatizer.lemmatize(word.lower()) for word in word_patterns]\n",
    "    #create a bag of words array with 1, if word is found in the current pattern\n",
    "    for word in words:\n",
    "        bag.append(1) if word in word_patterns else bag.append(0)\n",
    "        \n",
    "    #output is a '0' for each tag and '1' for current tag (for each pattern)\n",
    "    output_row = list(output_empty)\n",
    "    output_row[classes.index(doc[1])]=1\n",
    "    training.append([bag, output_row])\n",
    "    \n",
    "#shuffle the features and make numpy array\n",
    "random.shuffle(training)\n",
    "training= np.array(training)\n",
    "#create training nd testing lists. X-Patterns , Y-intents\n",
    "\n",
    "train_x = list(training[:,0])\n",
    "train_y = list(training[:,1])\n",
    "print(\"Training data is created\")"
   ]
  },
  {
   "cell_type": "code",
   "execution_count": 7,
   "metadata": {},
   "outputs": [
    {
     "ename": "ValueError",
     "evalue": "'greeting' is not in list",
     "output_type": "error",
     "traceback": [
      "\u001b[1;31m---------------------------------------------------------------------------\u001b[0m",
      "\u001b[1;31mValueError\u001b[0m                                Traceback (most recent call last)",
      "\u001b[1;32m<ipython-input-7-71329e4c836d>\u001b[0m in \u001b[0;36m<module>\u001b[1;34m\u001b[0m\n\u001b[0;32m     16\u001b[0m \u001b[1;31m# output is a '0' for each tag and '1' for current tag (for each pattern)\u001b[0m\u001b[1;33m\u001b[0m\u001b[1;33m\u001b[0m\u001b[1;33m\u001b[0m\u001b[0m\n\u001b[0;32m     17\u001b[0m         \u001b[0moutput_row\u001b[0m \u001b[1;33m=\u001b[0m \u001b[0mlist\u001b[0m\u001b[1;33m(\u001b[0m\u001b[0moutput_empty\u001b[0m\u001b[1;33m)\u001b[0m\u001b[1;33m\u001b[0m\u001b[1;33m\u001b[0m\u001b[0m\n\u001b[1;32m---> 18\u001b[1;33m         \u001b[0moutput_row\u001b[0m\u001b[1;33m[\u001b[0m\u001b[0mclasses\u001b[0m\u001b[1;33m.\u001b[0m\u001b[0mindex\u001b[0m\u001b[1;33m(\u001b[0m\u001b[0mdoc\u001b[0m\u001b[1;33m[\u001b[0m\u001b[1;36m1\u001b[0m\u001b[1;33m]\u001b[0m\u001b[1;33m)\u001b[0m\u001b[1;33m]\u001b[0m \u001b[1;33m=\u001b[0m \u001b[1;36m1\u001b[0m\u001b[1;33m\u001b[0m\u001b[1;33m\u001b[0m\u001b[0m\n\u001b[0m\u001b[0;32m     19\u001b[0m         \u001b[0mtraining\u001b[0m\u001b[1;33m.\u001b[0m\u001b[0mappend\u001b[0m\u001b[1;33m(\u001b[0m\u001b[1;33m[\u001b[0m\u001b[0mbag\u001b[0m\u001b[1;33m,\u001b[0m \u001b[0moutput_row\u001b[0m\u001b[1;33m]\u001b[0m\u001b[1;33m)\u001b[0m\u001b[1;33m\u001b[0m\u001b[1;33m\u001b[0m\u001b[0m\n\u001b[0;32m     20\u001b[0m \u001b[1;33m\u001b[0m\u001b[0m\n",
      "\u001b[1;31mValueError\u001b[0m: 'greeting' is not in list"
     ]
    }
   ],
   "source": [
    "# create the training data\n",
    "training = []\n",
    "# create empty array for the output\n",
    "output_empty = [0] * len(classes)\n",
    "# training set, bag of words for every sentence\n",
    "for doc in documents:\n",
    "# initializing bag of words\n",
    "    bag = []\n",
    "# list of tokenized words for the pattern\n",
    "    word_patterns = doc[0]\n",
    "# lemmatize each word - create base word, in attempt to represent related words\n",
    "    word_patterns = [lemmatizer.lemmatize(word.lower()) for word in word_patterns]\n",
    "# create the bag of words array with 1, if word is found in current pattern\n",
    "    for word in words:\n",
    "        bag.append(1) if word in word_patterns else bag.append(0)\n",
    "# output is a '0' for each tag and '1' for current tag (for each pattern)\n",
    "        output_row = list(output_empty)\n",
    "        output_row[classes.index(doc[1])] = 1\n",
    "        training.append([bag, output_row])\n",
    "        \n",
    "# shuffle the features and make numpy array\n",
    "random.shuffle(training)\n",
    "training = np.array(training)\n",
    "# create training and testing lists. X - patterns, Y - intents\n",
    "train_x = list(training[:,0])\n",
    "train_y = list(training[:,1])\n",
    "print(\"Training data is created\")"
   ]
  },
  {
   "cell_type": "code",
   "execution_count": 5,
   "metadata": {},
   "outputs": [
    {
     "ename": "NameError",
     "evalue": "name 'train_x' is not defined",
     "output_type": "error",
     "traceback": [
      "\u001b[1;31m---------------------------------------------------------------------------\u001b[0m",
      "\u001b[1;31mNameError\u001b[0m                                 Traceback (most recent call last)",
      "\u001b[1;32m<ipython-input-5-4078435e2ba5>\u001b[0m in \u001b[0;36m<module>\u001b[1;34m\u001b[0m\n\u001b[0;32m      2\u001b[0m \u001b[1;33m\u001b[0m\u001b[0m\n\u001b[0;32m      3\u001b[0m \u001b[0mmodel\u001b[0m \u001b[1;33m=\u001b[0m \u001b[0mSequential\u001b[0m\u001b[1;33m(\u001b[0m\u001b[1;33m)\u001b[0m\u001b[1;33m\u001b[0m\u001b[1;33m\u001b[0m\u001b[0m\n\u001b[1;32m----> 4\u001b[1;33m \u001b[0mmodel\u001b[0m\u001b[1;33m.\u001b[0m\u001b[0madd\u001b[0m\u001b[1;33m(\u001b[0m\u001b[0mDense\u001b[0m\u001b[1;33m(\u001b[0m\u001b[1;36m128\u001b[0m\u001b[1;33m,\u001b[0m \u001b[0minput_shape\u001b[0m\u001b[1;33m=\u001b[0m\u001b[1;33m(\u001b[0m\u001b[0mlen\u001b[0m\u001b[1;33m(\u001b[0m\u001b[0mtrain_x\u001b[0m\u001b[1;33m[\u001b[0m\u001b[1;36m0\u001b[0m\u001b[1;33m]\u001b[0m\u001b[1;33m)\u001b[0m\u001b[1;33m,\u001b[0m\u001b[1;33m)\u001b[0m\u001b[1;33m,\u001b[0m \u001b[0mactivation\u001b[0m\u001b[1;33m=\u001b[0m\u001b[1;34m'relu'\u001b[0m\u001b[1;33m)\u001b[0m\u001b[1;33m)\u001b[0m\u001b[1;33m\u001b[0m\u001b[1;33m\u001b[0m\u001b[0m\n\u001b[0m\u001b[0;32m      5\u001b[0m \u001b[0mmodel\u001b[0m\u001b[1;33m.\u001b[0m\u001b[0madd\u001b[0m\u001b[1;33m(\u001b[0m\u001b[0mDropout\u001b[0m\u001b[1;33m(\u001b[0m\u001b[1;36m0.5\u001b[0m\u001b[1;33m)\u001b[0m\u001b[1;33m)\u001b[0m\u001b[1;33m\u001b[0m\u001b[1;33m\u001b[0m\u001b[0m\n\u001b[0;32m      6\u001b[0m \u001b[0mmodel\u001b[0m\u001b[1;33m.\u001b[0m\u001b[0madd\u001b[0m\u001b[1;33m(\u001b[0m\u001b[0mDense\u001b[0m\u001b[1;33m(\u001b[0m\u001b[1;36m64\u001b[0m\u001b[1;33m,\u001b[0m \u001b[0mactivation\u001b[0m\u001b[1;33m=\u001b[0m\u001b[1;34m'relu'\u001b[0m\u001b[1;33m)\u001b[0m\u001b[1;33m)\u001b[0m\u001b[1;33m\u001b[0m\u001b[1;33m\u001b[0m\u001b[0m\n",
      "\u001b[1;31mNameError\u001b[0m: name 'train_x' is not defined"
     ]
    }
   ],
   "source": [
    "# deep neural networds model\n",
    "\n",
    "model = Sequential()\n",
    "model.add(Dense(128, input_shape=(len(train_x[0]),), activation='relu'))\n",
    "model.add(Dropout(0.5))\n",
    "model.add(Dense(64, activation='relu'))\n",
    "model.add(Dropout(0.5))\n",
    "model.add(Dense(len(train_y[0]), activation='softmax'))\n",
    "# Compiling model. SGD with Nesterov accelerated gradient gives good results for this model\n",
    "sgd = SGD(lr=0.01, decay=1e-6, momentum=0.9, nesterov=True)\n",
    "model.compile(loss='categorical_crossentropy', optimizer=sgd, metrics=['accuracy'])\n",
    "#Training and saving the model \n",
    "hist = model.fit(np.array(train_x), np.array(train_y), epochs=200, batch_size=5, verbose=1)\n",
    "model.save('chatbot_model.h5', hist)\n",
    "print(\"model is created\")"
   ]
  },
  {
   "cell_type": "code",
   "execution_count": null,
   "metadata": {},
   "outputs": [],
   "source": []
  }
 ],
 "metadata": {
  "kernelspec": {
   "display_name": "Python 3",
   "language": "python",
   "name": "python3"
  },
  "language_info": {
   "codemirror_mode": {
    "name": "ipython",
    "version": 3
   },
   "file_extension": ".py",
   "mimetype": "text/x-python",
   "name": "python",
   "nbconvert_exporter": "python",
   "pygments_lexer": "ipython3",
   "version": "3.6.8"
  }
 },
 "nbformat": 4,
 "nbformat_minor": 2
}
